{
 "cells": [
  {
   "cell_type": "markdown",
   "id": "3854acad-dc94-4dd7-b65e-e336e57f2428",
   "metadata": {
    "citation-manager": {
     "citations": {
      "6pejh": [
       {
        "id": "13409951/K57UGHVY",
        "source": "zotero"
       }
      ]
     }
    },
    "tags": []
   },
   "source": [
    "# Final Report - Work in Progress\n",
    "- Research Hypothesis / Questions:\n",
    "    - Is Formula 1 fandom Toxic?\n",
    "    - Are there specific groups that show more toxic behaviour then others?\n",
    "    - Is the toxicity a \"self-made\" problem of Formula 1?\n",
    "- APIs: Youtube\n",
    "    - (Not reddit as post are often off topic especially during the off season, that we are currently in)\n",
    "- Methods:\n",
    "    - TBD\n",
    "    - Dictionary\n",
    "        - Formula 1 specific words that are toxic\n",
    "        - racism?\n",
    "        - toxicity -> <cite id=\"6pejh\"><a href=\"#zotero%7C13409951%2FK57UGHVY\">(Orthrus-Lexicon, 2021/2022)</a></cite>\n",
    "        - hate speech?\n",
    "        - insults?\n",
    "    - Transformer classifier\n",
    "        - sentiment\n",
    "        - racism?\n",
    "        - misogynistic\n",
    "        - hate speech?\n",
    "    - statistical analysis\n",
    "        - group toxic behavior by drivers and teams\n",
    "        - group by topics\n",
    "            - topic modelling?\n",
    "- Contents:\n",
    "    - Introduction\n",
    "        - What is Formula 1\n",
    "        - Why do we need to analyze this\n",
    "        - introduce the three research questions / hypothesis\n",
    "    - Fundamentals\n",
    "        - What is fandom\n",
    "        - Defining toxic fan behavior\n",
    "        - Youtube API\n",
    "        - Maybe explaining the used methods?\n",
    "    - Concept\n",
    "        - What will be done\n",
    "        - How will i be doing it\n",
    "    - Creating the Dataset\n",
    "        - Explain Dataset creation\n",
    "    - Applying Method 1\n",
    "    - Applying Method 2\n",
    "    - Results"
   ]
  },
  {
   "cell_type": "code",
   "execution_count": null,
   "id": "6cba1024-f3d0-4e94-9830-f4b99271568f",
   "metadata": {},
   "outputs": [],
   "source": []
  }
 ],
 "metadata": {
  "citation-manager": {
   "items": {
    "zotero": {
     "13409951/K57UGHVY": {
      "URL": "https://github.com/Orthrus-Lexicon/Toxic",
      "abstract": "A dictionary of toxic words",
      "accessed": {
       "date-parts": [
        [
         2023,
         1,
         7
        ]
       ]
      },
      "author": [
       {
        "family": "Orthrus-Lexicon",
        "given": ""
       }
      ],
      "id": "13409951/K57UGHVY",
      "issued": {
       "date-parts": [
        [
         2022,
         9,
         9
        ]
       ]
      },
      "note": "original-date: 2021-02-14T15:47:49Z",
      "system_id": "zotero|13409951/K57UGHVY",
      "title": "Orthrus Toxic Dictionary implementation",
      "type": "book"
     }
    }
   }
  },
  "kernelspec": {
   "display_name": "Python 3 (ipykernel)",
   "language": "python",
   "name": "python3"
  },
  "language_info": {
   "codemirror_mode": {
    "name": "ipython",
    "version": 3
   },
   "file_extension": ".py",
   "mimetype": "text/x-python",
   "name": "python",
   "nbconvert_exporter": "python",
   "pygments_lexer": "ipython3",
   "version": "3.10.6"
  }
 },
 "nbformat": 4,
 "nbformat_minor": 5
}
