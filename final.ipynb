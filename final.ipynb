{
 "cells": [
  {
   "attachments": {},
   "cell_type": "markdown",
   "id": "9f04061f",
   "metadata": {},
   "source": [
    "<!--"
   ]
  },
  {
   "attachments": {},
   "cell_type": "markdown",
   "id": "3854acad-dc94-4dd7-b65e-e336e57f2428",
   "metadata": {
    "citation-manager": {
     "citations": {
      "6d9q5": [
       {
        "id": "13409951/AYIUUYSI",
        "source": "zotero"
       }
      ],
      "6pejh": [
       {
        "id": "13409951/K57UGHVY",
        "source": "zotero"
       }
      ]
     }
    },
    "tags": []
   },
   "source": [
    "# Final Report - Work in Progress\n",
    "- Research Hypothesis / Questions:\n",
    "    - Is Formula 1 fandom Toxic?\n",
    "    - Are there specific groups that show more toxic behaviour then others?\n",
    "    - Is the toxicity a \"self-made\" problem of Formula 1?\n",
    "- APIs: Youtube\n",
    "    - (Not reddit as post are often off topic especially during the off season, that we are currently in)\n",
    "- Methods:\n",
    "    - TBD\n",
    "    - Dictionary\n",
    "        - Formula 1 specific words that are toxic\n",
    "        - racism / ethnic slurs -> [@ethnic_slurs]\n",
    "        - toxicity -> [@orthrus-lexicon_orthrus_2022]\n",
    "        - hate speech -> [@van_der_vegt_grievance_2021]\n",
    "        - insults -> [@van_der_vegt_grievance_2021]\n",
    "    - Transformer classifier\n",
    "        - sentiment -> cardiffnlp/twitter-roberta-base-sentiment-latest [@tweet_sentiment_classifier]\n",
    "        - racism -> jaumefib/datathon-against-racism [@hate_speech_classifier]\n",
    "        - hate speech -> Hate-speech-CNERG/dehatebert-mono-english [@racism_classifier]\n",
    "    - statistical analysis\n",
    "        - group toxic behavior by drivers and teams\n",
    "        - group by topics\n",
    "            - topic modelling?\n",
    "- Contents:\n",
    "    - Introduction\n",
    "        - What is Formula 1\n",
    "        - Why do we need to analyze this\n",
    "        - introduce the three research questions / hypothesis\n",
    "    - Fundamentals\n",
    "        - Formula 1\n",
    "        - What is fandom\n",
    "        - Defining toxic fan behavior\n",
    "        - Youtube API\n",
    "        - Maybe explaining the used methods?\n",
    "    - Concept\n",
    "        - What will be done\n",
    "        - How will i be doing it\n",
    "    - Creating the Dataset\n",
    "        - Explain Dataset creation\n",
    "    - Applying Method 1\n",
    "    - Applying Method 2\n",
    "    - Results"
   ]
  },
  {
   "attachments": {},
   "cell_type": "markdown",
   "id": "0175e8b5",
   "metadata": {},
   "source": [
    "-->"
   ]
  },
  {
   "attachments": {},
   "cell_type": "markdown",
   "id": "db77bb04",
   "metadata": {},
   "source": [
    "# Analysing Toxicity in Formula 1 Fandom - Computational Analysis of Communications Final\n",
    "Author: Leon Knorr\n",
    "\n",
    "Matr-Nr: 1902854"
   ]
  },
  {
   "attachments": {},
   "cell_type": "markdown",
   "id": "78a5bd92",
   "metadata": {},
   "source": [
    "## Introduction\n",
    "Formula 1 is the highest class of international racing for open-wheel single-seater formula racing cars and is generally considered the most competitive, fastest and hardest class of motor racing. Since it’s first season in 1950, Formula 1 is visiting a diverse list of many different countries, where the best drivers in the world are racing against each other in teams of two drivers to determine the best driver and the best team on the Formula 1 grid [@about_f1]. These events are visited by thousands of Fans, with millions more following them on television and social media. With the 2021 season being one of the closest and most entertaining seasons in the history of Formula 1, where Red Bulls Max Verstappen beat Mercedes driver Lewis Hamilton in the grand finale of the season under controversial circumstances after a full season of controversy, drama and intense on track battles and with the release of Netflix Drive To Survive, Formula 1s popularity is growing rapidly. But, reports of Toxic and abusive Fan behavior at events and in comment sections on social media are accumulating, and casts an ugly shadow over Formula 1s latest successes [@woodhouse_scary_2022].\n",
    "As the reports over toxic and abusive fan behaviours in social media and at live events are rising, Formula 1 as well as Fans and drivers are taking a stand against toxicity in the Formula 1 community. However, an independent and scientific analysis of this topic is missing and therefore the accusations are sort of hanging in the air without a solid scientific foundation. Therefore, in order to tackle this problem research into the toxicity of Formula 1 fandom is a necassety to gain valuable insights into understanding the problem, where it originates from and to build a foundation for future measures to make attending Formula 1 events as well as the media around it a safer and more enjoyable experience. To take the first step into this direction, this thesis will analyse Youtube comments of the Formula 1 channel in order to determine:\n",
    "\n",
    "- If the Formula 1 fandom is toxic\n",
    "- Are there specific groups that are more toxic then others?\n",
    "- Is the toxicity a \"self-made\" problem of Formula 1 and where is the toxicity originating from?"
   ]
  },
  {
   "attachments": {},
   "cell_type": "markdown",
   "id": "edfdb523",
   "metadata": {},
   "source": [
    "## Fundamentals\n",
    "In this chapter the necessary fundamental knowledge is presented.\n",
    "\n",
    "### Formula 1\n",
    "Formula 1 is the worlds most prestigous motor racing competition, as well as the world's most popular annual sporting series [@about_f1]. It marks the highest class of international open-wheel single-seater formula racing. The first Formula 1 competition was held in 1950, since then the competiton for the world drivers championship (wdc) which determines the worlds best driver and the world constructors championship (wcc) which determines the best team, is held annualy and is sanctioned by the Fédération Internationale de l'Automobile (FIA). During the competition (also called a season), Formula 1 visits a variety of different countries and racing tracks, each event (Grands Prix) is attended by thousands of people with millions watching from home [@formula_1_2023]. All rights of the Formula 1 brand and the competition itself is owned by Formula One World Championship Limited, which is a corporation, that provides media distribution and promotion services, besides that, it controls the contracts, distribtution, and commercial management of rights and licenses of formula 1 [@formula_1_limited_company_profile]. The term Formula 1 is used to describe the corporation, as well as the competition, as they can't exist without each other.\n",
    "\n",
    "### What is Fandom\n",
    "\n",
    "### Defining Toxic Fan behaviour\n",
    "\n",
    "### Youtube API"
   ]
  },
  {
   "attachments": {},
   "cell_type": "markdown",
   "id": "b974c295",
   "metadata": {},
   "source": [
    "## Concept"
   ]
  },
  {
   "attachments": {},
   "cell_type": "markdown",
   "id": "43eecf97",
   "metadata": {},
   "source": [
    "## The Dataset"
   ]
  },
  {
   "attachments": {},
   "cell_type": "markdown",
   "id": "3a8a094b",
   "metadata": {},
   "source": [
    "## Dictionary Analysis"
   ]
  },
  {
   "attachments": {},
   "cell_type": "markdown",
   "id": "beccab78",
   "metadata": {},
   "source": [
    "## Transformer Classifiers"
   ]
  },
  {
   "attachments": {},
   "cell_type": "markdown",
   "id": "3535ee24",
   "metadata": {},
   "source": [
    "## Results"
   ]
  },
  {
   "attachments": {},
   "cell_type": "markdown",
   "id": "7a8f994c",
   "metadata": {},
   "source": [
    "## Bibliography"
   ]
  },
  {
   "cell_type": "markdown",
   "id": "4adb13c4",
   "metadata": {},
   "source": [
    "<!--"
   ]
  },
  {
   "cell_type": "code",
   "execution_count": 9,
   "id": "ed7f3267",
   "metadata": {},
   "outputs": [
    {
     "name": "stderr",
     "output_type": "stream",
     "text": [
      "[NbConvertApp] Converting notebook final.ipynb to markdown\n",
      "[NbConvertApp] Writing 4451 bytes to final.md\n"
     ]
    },
    {
     "data": {
      "text/plain": [
       "0"
      ]
     },
     "execution_count": 9,
     "metadata": {},
     "output_type": "execute_result"
    }
   ],
   "source": [
    "import os\n",
    "os.system(\"jupyter nbconvert --to markdown final.ipynb\")\n",
    "os.system(\"pandoc -s final.md -t pdf -o final.pdf --citeproc --bibliography=refs.bib --csl=apa.csl\")"
   ]
  },
  {
   "cell_type": "markdown",
   "id": "b641d154",
   "metadata": {},
   "source": [
    "-->"
   ]
  }
 ],
 "metadata": {
  "citation-manager": {
   "items": {
    "zotero": {
     "13409951/AYIUUYSI": {
      "DOI": "10.3758/s13428-021-01536-2",
      "URL": "https://link.springer.com/10.3758/s13428-021-01536-2",
      "abstract": "This paper introduces the Grievance Dictionary, a psycholinguistic dictionary that can be used to automatically understand language use in the context of grievance-fueled violence threat assessment. We describe the development of the dictionary, which was informed by suggestions from experienced threat assessment practitioners. These suggestions and subsequent human and computational word list generation resulted in a dictionary of 20,502 words annotated by 2318 participants. The dictionary was validated by applying it to texts written by violent and non-violent individuals, showing strong evidence for a difference between populations in several dictionary categories. Further classification tasks showed promising performance, but future improvements are still needed. Finally, we provide instructions and suggestions for the use of the Grievance Dictionary by security professionals and (violence) researchers.",
      "accessed": {
       "date-parts": [
        [
         2023,
         1,
         7
        ]
       ]
      },
      "author": [
       {
        "family": "van der Vegt",
        "given": "Isabelle"
       },
       {
        "family": "Mozes",
        "given": "Maximilian"
       },
       {
        "family": "Kleinberg",
        "given": "Bennett"
       },
       {
        "family": "Gill",
        "given": "Paul"
       }
      ],
      "container-title": "Behavior Research Methods",
      "id": "13409951/AYIUUYSI",
      "issue": "5",
      "issued": {
       "date-parts": [
        [
         "2021"
        ]
       ]
      },
      "journalAbbreviation": "Behav Res",
      "language": "en",
      "page": "2105-2119",
      "shortTitle": "The Grievance Dictionary",
      "system_id": "zotero|13409951/AYIUUYSI",
      "title": "The Grievance Dictionary: Understanding threatening language use",
      "type": "article-journal",
      "volume": "53"
     },
     "13409951/K57UGHVY": {
      "URL": "https://github.com/Orthrus-Lexicon/Toxic",
      "abstract": "A dictionary of toxic words",
      "accessed": {
       "date-parts": [
        [
         2023,
         1,
         7
        ]
       ]
      },
      "author": [
       {
        "family": "Orthrus-Lexicon",
        "given": ""
       }
      ],
      "id": "13409951/K57UGHVY",
      "issued": {
       "date-parts": [
        [
         2022,
         9,
         9
        ]
       ]
      },
      "note": "original-date: 2021-02-14T15:47:49Z",
      "system_id": "zotero|13409951/K57UGHVY",
      "title": "Orthrus Toxic Dictionary implementation",
      "type": "book"
     }
    }
   }
  },
  "kernelspec": {
   "display_name": "Python 3.9.15 ('CAC')",
   "language": "python",
   "name": "python3"
  },
  "language_info": {
   "codemirror_mode": {
    "name": "ipython",
    "version": 3
   },
   "file_extension": ".py",
   "mimetype": "text/x-python",
   "name": "python",
   "nbconvert_exporter": "python",
   "pygments_lexer": "ipython3",
   "version": "3.9.15"
  },
  "vscode": {
   "interpreter": {
    "hash": "e9841eda7af3f17386775c2d69f63acccb0fbca7caaddff7551f32402eb39582"
   }
  }
 },
 "nbformat": 4,
 "nbformat_minor": 5
}
